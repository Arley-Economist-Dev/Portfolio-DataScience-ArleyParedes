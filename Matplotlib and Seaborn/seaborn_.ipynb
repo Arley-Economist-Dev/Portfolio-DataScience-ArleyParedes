{
  "nbformat": 4,
  "nbformat_minor": 0,
  "metadata": {
    "colab": {
      "name": "seaborn_.ipynb",
      "provenance": []
    },
    "kernelspec": {
      "name": "python3",
      "display_name": "Python 3"
    },
    "language_info": {
      "name": "python"
    }
  },
  "cells": [
    {
      "cell_type": "markdown",
      "source": [
        "## Introduccion a seaborn"
      ],
      "metadata": {
        "id": "xlVhoOq8iGNY"
      }
    },
    {
      "cell_type": "code",
      "execution_count": null,
      "metadata": {
        "id": "gbyI6xcBh6sn"
      },
      "outputs": [],
      "source": [
        "## Estructura basica\n",
        "sns.\"Tipo de grafica\"(\n",
        "    data = \"dataset\",\n",
        "    x = \"Data en eje X\",\n",
        "    y = \"Data en eje Y\",\n",
        "    hue = \"Variable de agrupamiento\"\n",
        ")"
      ]
    },
    {
      "cell_type": "markdown",
      "source": [
        "## Tipo de graficas\n",
        "\n",
        "\n",
        "1.   relplot (relational)\n",
        "*   scatterplot\n",
        "*   lineplot\n",
        "2.   displot (distributions)\n",
        "*   histplot\n",
        "*   kdeplot\n",
        "*   ecdfplot\n",
        "*   rugplot\n",
        "3.   catplot (categorial)\n",
        "*   stripplot\n",
        "*   swarmplot\n",
        "*   boxplot\n",
        "*   violinplot\n",
        "*   pointplot\n",
        "*   barplot"
      ],
      "metadata": {
        "id": "qbJjBPniiezI"
      }
    }
  ]
}