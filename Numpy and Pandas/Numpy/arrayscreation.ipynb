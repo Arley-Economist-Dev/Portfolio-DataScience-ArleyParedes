{
  "cells": [
    {
      "cell_type": "code",
      "execution_count": 1,
      "metadata": {
        "id": "Wl5wMygKvB_N"
      },
      "outputs": [],
      "source": [
        "import numpy as np"
      ]
    },
    {
      "cell_type": "code",
      "execution_count": 2,
      "metadata": {
        "colab": {
          "base_uri": "https://localhost:8080/"
        },
        "id": "V3OX9B0Pvwsi",
        "outputId": "4aa4f404-7db4-4c64-f6e7-79ebe47b6a3e"
      },
      "outputs": [
        {
          "data": {
            "text/plain": [
              "[0, 1, 2, 3, 4, 5, 6, 7, 8, 9, 10]"
            ]
          },
          "execution_count": 2,
          "metadata": {},
          "output_type": "execute_result"
        }
      ],
      "source": [
        "list(range(0,11))"
      ]
    },
    {
      "cell_type": "code",
      "execution_count": 3,
      "metadata": {
        "colab": {
          "base_uri": "https://localhost:8080/"
        },
        "id": "Iew2RTAYv6N9",
        "outputId": "5a16a93a-a7e1-4ca8-9fc7-95e3071137af"
      },
      "outputs": [
        {
          "data": {
            "text/plain": [
              "array([ 0,  2,  4,  6,  8, 10, 12, 14, 16, 18])"
            ]
          },
          "execution_count": 3,
          "metadata": {},
          "output_type": "execute_result"
        }
      ],
      "source": [
        "#haciendo lo de arriba en sintaxis de numpy\n",
        "\n",
        "#np.arange(inicio, limite, steps)\n",
        "np.arange(0,11)\n",
        "np.arange(0,20,2)"
      ]
    },
    {
      "cell_type": "code",
      "execution_count": 4,
      "metadata": {
        "colab": {
          "base_uri": "https://localhost:8080/"
        },
        "id": "U6sVKR8aweuo",
        "outputId": "949f47d9-e39d-4e8b-bc35-bf513a8d2577"
      },
      "outputs": [
        {
          "data": {
            "text/plain": [
              "array([[0., 0., 0., 0., 0., 0., 0., 0., 0., 0.],\n",
              "       [0., 0., 0., 0., 0., 0., 0., 0., 0., 0.],\n",
              "       [0., 0., 0., 0., 0., 0., 0., 0., 0., 0.],\n",
              "       [0., 0., 0., 0., 0., 0., 0., 0., 0., 0.],\n",
              "       [0., 0., 0., 0., 0., 0., 0., 0., 0., 0.],\n",
              "       [0., 0., 0., 0., 0., 0., 0., 0., 0., 0.],\n",
              "       [0., 0., 0., 0., 0., 0., 0., 0., 0., 0.],\n",
              "       [0., 0., 0., 0., 0., 0., 0., 0., 0., 0.],\n",
              "       [0., 0., 0., 0., 0., 0., 0., 0., 0., 0.],\n",
              "       [0., 0., 0., 0., 0., 0., 0., 0., 0., 0.]])"
            ]
          },
          "execution_count": 4,
          "metadata": {},
          "output_type": "execute_result"
        }
      ],
      "source": [
        "#definir arreglos de ceros\n",
        "np.zeros(3)\n",
        "#nos sirve para hacer esquemas previos de arreglos\n",
        "np.zeros((10,10))"
      ]
    },
    {
      "cell_type": "code",
      "execution_count": 5,
      "metadata": {
        "colab": {
          "base_uri": "https://localhost:8080/"
        },
        "id": "4AE5_id4wi7l",
        "outputId": "96bfdfdc-d365-4a86-c540-1af891fc3d10"
      },
      "outputs": [
        {
          "data": {
            "text/plain": [
              "array([[1., 1., 1., 1., 1.],\n",
              "       [1., 1., 1., 1., 1.],\n",
              "       [1., 1., 1., 1., 1.],\n",
              "       [1., 1., 1., 1., 1.],\n",
              "       [1., 1., 1., 1., 1.],\n",
              "       [1., 1., 1., 1., 1.],\n",
              "       [1., 1., 1., 1., 1.],\n",
              "       [1., 1., 1., 1., 1.],\n",
              "       [1., 1., 1., 1., 1.],\n",
              "       [1., 1., 1., 1., 1.]])"
            ]
          },
          "execution_count": 5,
          "metadata": {},
          "output_type": "execute_result"
        }
      ],
      "source": [
        "np.ones((10,5))\n",
        "#similar a zeros"
      ]
    },
    {
      "cell_type": "code",
      "execution_count": 6,
      "metadata": {
        "colab": {
          "base_uri": "https://localhost:8080/"
        },
        "id": "dwj_TvIiw5Gy",
        "outputId": "c29c50ed-569a-4c1e-9545-9228701ebdbf"
      },
      "outputs": [
        {
          "data": {
            "text/plain": [
              "array([ 0.        ,  0.52631579,  1.05263158,  1.57894737,  2.10526316,\n",
              "        2.63157895,  3.15789474,  3.68421053,  4.21052632,  4.73684211,\n",
              "        5.26315789,  5.78947368,  6.31578947,  6.84210526,  7.36842105,\n",
              "        7.89473684,  8.42105263,  8.94736842,  9.47368421, 10.        ])"
            ]
          },
          "execution_count": 6,
          "metadata": {},
          "output_type": "execute_result"
        }
      ],
      "source": [
        "#genera estructuras de rangos con la cantidad de elementos especificadas\n",
        "#np.lispace(inicio, limite, cantidad de datos)\n",
        "np.linspace(0,10,10)\n",
        "np.linspace(0,10,20)"
      ]
    },
    {
      "cell_type": "code",
      "execution_count": 7,
      "metadata": {
        "colab": {
          "base_uri": "https://localhost:8080/"
        },
        "id": "f-t5SN9jxCDU",
        "outputId": "2fc5a137-7e30-4313-af10-6945c72e3f80"
      },
      "outputs": [
        {
          "data": {
            "text/plain": [
              "array([[1., 0., 0., 0.],\n",
              "       [0., 1., 0., 0.],\n",
              "       [0., 0., 1., 0.],\n",
              "       [0., 0., 0., 1.]])"
            ]
          },
          "execution_count": 7,
          "metadata": {},
          "output_type": "execute_result"
        }
      ],
      "source": [
        "#Matriz identidad con numpy\n",
        "np.eye(4)"
      ]
    },
    {
      "cell_type": "code",
      "execution_count": 8,
      "metadata": {
        "colab": {
          "base_uri": "https://localhost:8080/"
        },
        "id": "1mS5DF6Xxns5",
        "outputId": "934fdc40-25ea-4ff2-dc30-bba1bd286da8"
      },
      "outputs": [
        {
          "data": {
            "text/plain": [
              "0.8914454585909065"
            ]
          },
          "execution_count": 8,
          "metadata": {},
          "output_type": "execute_result"
        }
      ],
      "source": [
        "#genera un valor aleatorio entre 0 y 1\n",
        "np.random.rand()"
      ]
    },
    {
      "cell_type": "code",
      "execution_count": 9,
      "metadata": {
        "colab": {
          "base_uri": "https://localhost:8080/"
        },
        "id": "ZpviaYY2xyZZ",
        "outputId": "fe70044a-2ff7-4c49-b018-79679c19a638"
      },
      "outputs": [
        {
          "data": {
            "text/plain": [
              "array([0.45679266, 0.00445172, 0.27536118, 0.67138612])"
            ]
          },
          "execution_count": 9,
          "metadata": {},
          "output_type": "execute_result"
        }
      ],
      "source": [
        "#se genera un array de valores aleatorio de 0 a 1 en un vector de 4 dimensiones\n",
        "np.random.rand(4)"
      ]
    },
    {
      "cell_type": "code",
      "execution_count": 10,
      "metadata": {
        "colab": {
          "base_uri": "https://localhost:8080/"
        },
        "id": "Yc20FcElx8-2",
        "outputId": "08c65e9f-6f96-463e-8cd3-1786b83f7ca4"
      },
      "outputs": [
        {
          "data": {
            "text/plain": [
              "array([[0.62507756, 0.60213834, 0.12098147, 0.25939214],\n",
              "       [0.43511338, 0.26746326, 0.81242322, 0.52253162],\n",
              "       [0.47271032, 0.82465639, 0.69838943, 0.05836022],\n",
              "       [0.11617933, 0.34111458, 0.48470405, 0.19904631]])"
            ]
          },
          "execution_count": 10,
          "metadata": {},
          "output_type": "execute_result"
        }
      ],
      "source": [
        "np.random.rand(4,4)"
      ]
    },
    {
      "cell_type": "code",
      "execution_count": 11,
      "metadata": {
        "colab": {
          "base_uri": "https://localhost:8080/"
        },
        "id": "B7G_O9FF1VBn",
        "outputId": "fef72cbd-40b9-4cba-f199-552b21785ed7"
      },
      "outputs": [
        {
          "data": {
            "text/plain": [
              "2"
            ]
          },
          "execution_count": 11,
          "metadata": {},
          "output_type": "execute_result"
        }
      ],
      "source": [
        "np.random.randint(1,15)"
      ]
    },
    {
      "cell_type": "code",
      "execution_count": 12,
      "metadata": {
        "colab": {
          "base_uri": "https://localhost:8080/"
        },
        "id": "mT1Cswg61ern",
        "outputId": "e68a390f-ffea-4b03-bdb9-bb07982f2943"
      },
      "outputs": [
        {
          "data": {
            "text/plain": [
              "array([[86, 46, 72, 50, 16,  4, 11,  7,  1, 58],\n",
              "       [76,  7, 42, 85, 68, 20, 36, 44, 69, 63],\n",
              "       [18, 32, 58, 13,  9, 79, 83, 93, 83, 43],\n",
              "       [80, 77, 35, 94, 96, 55, 80, 10, 84, 11],\n",
              "       [83, 39,  4, 12, 55, 38, 89, 31, 24, 15],\n",
              "       [ 5,  2, 91, 63, 34, 14, 75, 29, 79, 81],\n",
              "       [31, 29, 38, 97, 20, 67,  6, 48, 72, 86],\n",
              "       [30, 85, 39, 37, 59, 89, 28, 87,  9, 79],\n",
              "       [44, 44, 17, 45, 77, 29, 61,  9, 58, 47],\n",
              "       [54, 85, 21, 79, 64, 67, 34, 50, 48,  6]])"
            ]
          },
          "execution_count": 12,
          "metadata": {},
          "output_type": "execute_result"
        }
      ],
      "source": [
        "#se generan valores random en estructuras matriciales\n",
        "#np.random.randint(inicio, limite, (columnas * filas))\n",
        "np.random.randint(1,100,(10,10))"
      ]
    }
  ],
  "metadata": {
    "colab": {
      "name": "arrayscreation.ipynb",
      "provenance": []
    },
    "kernelspec": {
      "display_name": "Python 3",
      "name": "python3"
    },
    "language_info": {
      "codemirror_mode": {
        "name": "ipython",
        "version": 3
      },
      "file_extension": ".py",
      "mimetype": "text/x-python",
      "name": "python",
      "nbconvert_exporter": "python",
      "pygments_lexer": "ipython3",
      "version": "3.9.12"
    }
  },
  "nbformat": 4,
  "nbformat_minor": 0
}
