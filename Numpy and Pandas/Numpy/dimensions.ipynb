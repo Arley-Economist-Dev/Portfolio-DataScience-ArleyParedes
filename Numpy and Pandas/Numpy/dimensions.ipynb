{
  "nbformat": 4,
  "nbformat_minor": 0,
  "metadata": {
    "colab": {
      "name": "dimensions.ipynb",
      "provenance": []
    },
    "kernelspec": {
      "name": "python3",
      "display_name": "Python 3"
    },
    "language_info": {
      "name": "python"
    }
  },
  "cells": [
    {
      "cell_type": "code",
      "execution_count": 1,
      "metadata": {
        "id": "VwouU7I2pj1I"
      },
      "outputs": [],
      "source": [
        "\"\"\"Vamos a definir una dimension en python\"\"\"\n",
        "#importamos numpy\n",
        "import numpy as np"
      ]
    },
    {
      "cell_type": "markdown",
      "source": [
        "**Tipos de dimensiones en los datos**\n",
        "\n",
        "\n",
        "1.   Escalar = objeto sin dimensiones un elemento dentro de un vector\n",
        "2.   Vector = objeto de una dimension una columna dentro de una matriz\n",
        "3.   Matriz = es un objetoco con 2 dimensiones, se puede tener una matriz de 3 dimensiones\n",
        "4.   Tensor = objeto de n dimensiones\n",
        "\n"
      ],
      "metadata": {
        "id": "KOtX9tGwqIEX"
      }
    },
    {
      "cell_type": "code",
      "source": [
        "scalar = np.array(42)\n",
        "print(scalar)\n",
        "scalar.ndim"
      ],
      "metadata": {
        "colab": {
          "base_uri": "https://localhost:8080/"
        },
        "id": "ydRDFKLZq5VD",
        "outputId": "68d6585a-87bd-44ed-9745-02cc899c6869"
      },
      "execution_count": 2,
      "outputs": [
        {
          "output_type": "stream",
          "name": "stdout",
          "text": [
            "42\n"
          ]
        },
        {
          "output_type": "execute_result",
          "data": {
            "text/plain": [
              "0"
            ]
          },
          "metadata": {},
          "execution_count": 2
        }
      ]
    },
    {
      "cell_type": "code",
      "source": [
        "vector = np.array([42,22,4,887,32,215,668])\n",
        "print(vector)\n",
        "vector.ndim"
      ],
      "metadata": {
        "colab": {
          "base_uri": "https://localhost:8080/"
        },
        "id": "WfuK6eJPro6q",
        "outputId": "5047baff-3a45-4090-82f9-6dbe716a4e3a"
      },
      "execution_count": 3,
      "outputs": [
        {
          "output_type": "stream",
          "name": "stdout",
          "text": [
            "[ 42  22   4 887  32 215 668]\n"
          ]
        },
        {
          "output_type": "execute_result",
          "data": {
            "text/plain": [
              "1"
            ]
          },
          "metadata": {},
          "execution_count": 3
        }
      ]
    },
    {
      "cell_type": "code",
      "source": [
        "matriz = np.array([[42,22,4,887,32,215,668],[344,67,122,54678,121,5565,99],[34,7,12,546,11,55,99]])\n",
        "print(matriz)\n",
        "matriz.ndim"
      ],
      "metadata": {
        "colab": {
          "base_uri": "https://localhost:8080/"
        },
        "id": "ZYap8pl4r2PK",
        "outputId": "255ca451-b93c-4eef-962e-6587f29ca6ad"
      },
      "execution_count": 6,
      "outputs": [
        {
          "output_type": "stream",
          "name": "stdout",
          "text": [
            "[[   42    22     4   887    32   215   668]\n",
            " [  344    67   122 54678   121  5565    99]\n",
            " [   34     7    12   546    11    55    99]]\n"
          ]
        },
        {
          "output_type": "execute_result",
          "data": {
            "text/plain": [
              "2"
            ]
          },
          "metadata": {},
          "execution_count": 6
        }
      ]
    },
    {
      "cell_type": "code",
      "source": [
        "tensor = np.array([[[42,22,4,887,32,215,668],[344,67,122,54678,121,5565,99],[34,7,12,546,11,55,99]],[[42,22,4,887,32,215,668],[344,67,122,54678,121,5565,99],[34,7,12,546,11,55,99]]])\n",
        "print(tensor)\n",
        "tensor.ndim"
      ],
      "metadata": {
        "colab": {
          "base_uri": "https://localhost:8080/"
        },
        "id": "zMhyEVfXsupJ",
        "outputId": "39b9ef0d-2974-4efd-b3c4-14424c5b3a48"
      },
      "execution_count": 8,
      "outputs": [
        {
          "output_type": "stream",
          "name": "stdout",
          "text": [
            "[[[   42    22     4   887    32   215   668]\n",
            "  [  344    67   122 54678   121  5565    99]\n",
            "  [   34     7    12   546    11    55    99]]\n",
            "\n",
            " [[   42    22     4   887    32   215   668]\n",
            "  [  344    67   122 54678   121  5565    99]\n",
            "  [   34     7    12   546    11    55    99]]]\n"
          ]
        },
        {
          "output_type": "execute_result",
          "data": {
            "text/plain": [
              "3"
            ]
          },
          "metadata": {},
          "execution_count": 8
        }
      ]
    },
    {
      "cell_type": "markdown",
      "source": [
        "## Agregar o eliminar dimensiones"
      ],
      "metadata": {
        "id": "sobRJ5zWtEXX"
      }
    },
    {
      "cell_type": "code",
      "source": [
        "vector = np.array([1,2,3], ndmin=10)\n",
        "print(vector)\n",
        "vector.ndim"
      ],
      "metadata": {
        "colab": {
          "base_uri": "https://localhost:8080/"
        },
        "id": "cviiBuK5tKAF",
        "outputId": "964d04f5-1a24-45b6-8a46-a0f751c8ccf6"
      },
      "execution_count": 12,
      "outputs": [
        {
          "output_type": "stream",
          "name": "stdout",
          "text": [
            "[[[[[[[[[[1 2 3]]]]]]]]]]\n"
          ]
        },
        {
          "output_type": "execute_result",
          "data": {
            "text/plain": [
              "10"
            ]
          },
          "metadata": {},
          "execution_count": 12
        }
      ]
    },
    {
      "cell_type": "code",
      "source": [
        "#expandiendo dimensiones en filas\n",
        "expands = np.expand_dims(np.array([1,2,3]), axis = 0)\n",
        "print(expands)\n",
        "expands.ndim"
      ],
      "metadata": {
        "colab": {
          "base_uri": "https://localhost:8080/"
        },
        "id": "7ceJi3Cqt9k2",
        "outputId": "842cfcc1-87d6-4cf3-c84a-de2046d978eb"
      },
      "execution_count": 14,
      "outputs": [
        {
          "output_type": "stream",
          "name": "stdout",
          "text": [
            "[[1 2 3]]\n"
          ]
        },
        {
          "output_type": "execute_result",
          "data": {
            "text/plain": [
              "2"
            ]
          },
          "metadata": {},
          "execution_count": 14
        }
      ]
    },
    {
      "cell_type": "code",
      "source": [
        "#squeeze comprime las dimensiones a la optima\n",
        "print(vector, vector.ndim)\n",
        "vector2 = np.squeeze(vector)\n",
        "print(vector2, vector2.ndim)"
      ],
      "metadata": {
        "colab": {
          "base_uri": "https://localhost:8080/"
        },
        "id": "_XnoV6pWuXuI",
        "outputId": "82e071d0-348b-4867-b5ea-8fb0a23c03aa"
      },
      "execution_count": 15,
      "outputs": [
        {
          "output_type": "stream",
          "name": "stdout",
          "text": [
            "[[[[[[[[[[1 2 3]]]]]]]]]] 10\n",
            "[1 2 3] 1\n"
          ]
        }
      ]
    }
  ]
}