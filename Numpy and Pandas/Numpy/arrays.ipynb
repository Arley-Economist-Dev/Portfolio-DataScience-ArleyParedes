{
  "cells": [
    {
      "cell_type": "code",
      "execution_count": 1,
      "metadata": {
        "id": "C9PtgI4oPTMY"
      },
      "outputs": [],
      "source": [
        "#aqui importamos la libreria\n",
        "import numpy as np"
      ]
    },
    {
      "cell_type": "code",
      "execution_count": 3,
      "metadata": {
        "colab": {
          "base_uri": "https://localhost:8080/"
        },
        "id": "2Hqq9d5UPit8",
        "outputId": "7589a32c-df43-4d30-bfcd-ee3ac1f087d5"
      },
      "outputs": [
        {
          "data": {
            "text/plain": [
              "[1, 2, 3, 4, 5, 6, 7, 8, 9]"
            ]
          },
          "execution_count": 3,
          "metadata": {},
          "output_type": "execute_result"
        }
      ],
      "source": [
        "#definimos una lista tradicional\n",
        "lista = [1,2,3,4,5,6,7,8,9]\n",
        "lista"
      ]
    },
    {
      "cell_type": "code",
      "execution_count": 5,
      "metadata": {
        "colab": {
          "base_uri": "https://localhost:8080/"
        },
        "id": "ceDT4wgzPwAP",
        "outputId": "30d176e7-c464-4c97-897b-e63f09595413"
      },
      "outputs": [
        {
          "data": {
            "text/plain": [
              "numpy.ndarray"
            ]
          },
          "execution_count": 5,
          "metadata": {},
          "output_type": "execute_result"
        }
      ],
      "source": [
        "#asi la convertimos en un array\n",
        "arr = np.array(lista)\n",
        "type(arr)"
      ]
    },
    {
      "cell_type": "code",
      "execution_count": 8,
      "metadata": {
        "colab": {
          "base_uri": "https://localhost:8080/"
        },
        "id": "W6Ta9bICP9Ob",
        "outputId": "e5038bb0-cf72-49b8-ad29-2b81535ac50c"
      },
      "outputs": [
        {
          "data": {
            "text/plain": [
              "array([[1, 2, 3],\n",
              "       [4, 5, 6],\n",
              "       [7, 8, 9]])"
            ]
          },
          "execution_count": 8,
          "metadata": {},
          "output_type": "execute_result"
        }
      ],
      "source": [
        "#objetos de multiples dimensiones matrices\n",
        "matriz = [[1,2,3],[4,5,6],[7,8,9]]\n",
        "matriz = np.array(matriz)\n",
        "matriz"
      ]
    },
    {
      "cell_type": "code",
      "execution_count": 11,
      "metadata": {
        "colab": {
          "base_uri": "https://localhost:8080/"
        },
        "id": "v5Ry93xqQisy",
        "outputId": "5745c664-8c8c-4516-a8d8-d721a9a7c38f"
      },
      "outputs": [
        {
          "data": {
            "text/plain": [
              "7"
            ]
          },
          "execution_count": 11,
          "metadata": {},
          "output_type": "execute_result"
        }
      ],
      "source": [
        "#indexado con arreglos\n",
        "arr\n",
        "arr[1]\n",
        "arr[0] + arr[5]"
      ]
    },
    {
      "cell_type": "code",
      "execution_count": 14,
      "metadata": {
        "colab": {
          "base_uri": "https://localhost:8080/"
        },
        "id": "dH8vjGlcREf4",
        "outputId": "138899d5-b21c-409b-c129-048a0ef86b98"
      },
      "outputs": [
        {
          "data": {
            "text/plain": [
              "3"
            ]
          },
          "execution_count": 14,
          "metadata": {},
          "output_type": "execute_result"
        }
      ],
      "source": [
        "#los indices seleccionan las filas dentro de las matrices\n",
        "matriz[0]\n",
        "matriz[2]\n",
        "#acceder a un punto especifico de la matriz\n",
        "matriz[0,2]"
      ]
    },
    {
      "cell_type": "code",
      "execution_count": 18,
      "metadata": {
        "colab": {
          "base_uri": "https://localhost:8080/"
        },
        "id": "GO5Ir6ZiSsUA",
        "outputId": "6f4db064-8785-4e7b-f67f-33f7bca963ec"
      },
      "outputs": [
        {
          "data": {
            "text/plain": [
              "array([1, 3, 5, 7, 9])"
            ]
          },
          "execution_count": 18,
          "metadata": {},
          "output_type": "execute_result"
        }
      ],
      "source": [
        "arr\n",
        "#usando slices para encontrar valores dentro de un array\n",
        "arr[0:3:]\n",
        "#lista invertida\n",
        "arr[::-1]\n",
        "#saltando dos en dos\n",
        "arr[::2]"
      ]
    },
    {
      "cell_type": "code",
      "execution_count": 20,
      "metadata": {
        "colab": {
          "base_uri": "https://localhost:8080/"
        },
        "id": "FKV0VBIKTkOY",
        "outputId": "f438f676-6108-4270-c931-ca5ccf47d11d"
      },
      "outputs": [
        {
          "data": {
            "text/plain": [
              "array([[4, 5],\n",
              "       [7, 8]])"
            ]
          },
          "execution_count": 20,
          "metadata": {},
          "output_type": "execute_result"
        }
      ],
      "source": [
        "#usando slices con una matriz\n",
        "# matriz[nivel de filas, nivel de columnas]\n",
        "matriz[1:,0:2]"
      ]
    }
  ],
  "metadata": {
    "colab": {
      "collapsed_sections": [],
      "name": "arrays.ipynb",
      "provenance": []
    },
    "kernelspec": {
      "display_name": "Python 3",
      "name": "python3"
    },
    "language_info": {
      "name": "python",
      "version": "3.9.12"
    }
  },
  "nbformat": 4,
  "nbformat_minor": 0
}
